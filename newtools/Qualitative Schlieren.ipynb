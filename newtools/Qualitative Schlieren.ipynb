{
 "cells": [
  {
   "cell_type": "markdown",
   "metadata": {},
   "source": [
    "# Qualitative Schlieren"
   ]
  },
  {
   "cell_type": "markdown",
   "metadata": {},
   "source": [
    "Use the qt backend so that we can have animations"
   ]
  },
  {
   "cell_type": "code",
   "execution_count": 1,
   "metadata": {
    "collapsed": false
   },
   "outputs": [],
   "source": [
    "%matplotlib qt"
   ]
  },
  {
   "cell_type": "markdown",
   "metadata": {},
   "source": [
    "Bring in some modules"
   ]
  },
  {
   "cell_type": "code",
   "execution_count": 2,
   "metadata": {
    "collapsed": false
   },
   "outputs": [],
   "source": [
    "import numpy as np\n",
    "import matplotlib.pyplot as plt\n",
    "import matplotlib.animation as animation\n",
    "import os"
   ]
  },
  {
   "cell_type": "markdown",
   "metadata": {},
   "source": [
    "Images can be load with either pillow or PIL"
   ]
  },
  {
   "cell_type": "code",
   "execution_count": 21,
   "metadata": {
    "collapsed": true
   },
   "outputs": [],
   "source": [
    "from PIL import Image"
   ]
  },
  {
   "cell_type": "code",
   "execution_count": 22,
   "metadata": {
    "collapsed": true
   },
   "outputs": [],
   "source": [
    "exp = '/Users/jmunroe/data/exp160622143528/'"
   ]
  },
  {
   "cell_type": "code",
   "execution_count": 23,
   "metadata": {
    "collapsed": true
   },
   "outputs": [],
   "source": [
    "img = Image.open(exp + '1.jpg')"
   ]
  },
  {
   "cell_type": "code",
   "execution_count": 24,
   "metadata": {
    "collapsed": false
   },
   "outputs": [],
   "source": [
    "ref_image = np.array(img, dtype='int16')"
   ]
  },
  {
   "cell_type": "code",
   "execution_count": 30,
   "metadata": {
    "collapsed": false
   },
   "outputs": [],
   "source": [
    "fig = plt.figure()\n",
    "ax = plt.subplot(111)\n",
    "im = plt.imshow(ref_image, vmin=-20, vmax=20, cmap=plt.get_cmap('jet'), animated=True)\n",
    "ttl = plt.title('Title', animated=True)"
   ]
  },
  {
   "cell_type": "code",
   "execution_count": 31,
   "metadata": {
    "collapsed": false
   },
   "outputs": [
    {
     "data": {
      "text/plain": [
       "<matplotlib.colorbar.Colorbar instance at 0x1192a7dd0>"
      ]
     },
     "execution_count": 31,
     "metadata": {},
     "output_type": "execute_result"
    }
   ],
   "source": [
    "plt.colorbar()"
   ]
  },
  {
   "cell_type": "code",
   "execution_count": 34,
   "metadata": {
    "collapsed": false
   },
   "outputs": [],
   "source": [
    "def updatefig(framenum, *args, **kwargs):\n",
    "    global ref_image\n",
    "    img2 = Image.open(exp + '%d.jpg' %framenum)\n",
    "    diff = ref_image - np.array(img2)\n",
    "    im.set_array(diff)\n",
    "    print ('Frame: %d, Time: %.1f' % (framenum, framenum / 10.0))\n",
    "    return im, "
   ]
  },
  {
   "cell_type": "code",
   "execution_count": 35,
   "metadata": {
    "collapsed": false,
    "scrolled": true
   },
   "outputs": [
    {
     "name": "stdout",
     "output_type": "stream",
     "text": [
      "Frame: 1, Time: 0.1\n",
      "Frame: 1, Time: 0.1\n",
      "Frame: 2, Time: 0.2\n",
      "Frame: 3, Time: 0.3\n",
      "Frame: 4, Time: 0.4\n",
      "Frame: 5, Time: 0.5\n",
      "Frame: 6, Time: 0.6\n",
      "Frame: 7, Time: 0.7\n",
      "Frame: 8, Time: 0.8\n",
      "Frame: 9, Time: 0.9\n",
      "Frame: 10, Time: 1.0\n",
      "Frame: 11, Time: 1.1\n",
      "Frame: 12, Time: 1.2\n",
      "Frame: 13, Time: 1.3\n",
      "Frame: 14, Time: 1.4\n",
      "Frame: 15, Time: 1.5\n",
      "Frame: 16, Time: 1.6\n",
      "Frame: 17, Time: 1.7\n",
      "Frame: 18, Time: 1.8\n",
      "Frame: 19, Time: 1.9\n",
      "Frame: 20, Time: 2.0\n",
      "Frame: 21, Time: 2.1\n",
      "Frame: 22, Time: 2.2\n",
      "Frame: 23, Time: 2.3\n",
      "Frame: 24, Time: 2.4\n",
      "Frame: 25, Time: 2.5\n",
      "Frame: 26, Time: 2.6\n",
      "Frame: 27, Time: 2.7\n",
      "Frame: 28, Time: 2.8\n",
      "Frame: 29, Time: 2.9\n",
      "Frame: 30, Time: 3.0\n",
      "Frame: 31, Time: 3.1\n",
      "Frame: 32, Time: 3.2\n",
      "Frame: 33, Time: 3.3\n",
      "Frame: 34, Time: 3.4\n",
      "Frame: 35, Time: 3.5\n",
      "Frame: 36, Time: 3.6\n",
      "Frame: 37, Time: 3.7\n",
      "Frame: 38, Time: 3.8\n",
      "Frame: 39, Time: 3.9\n",
      "Frame: 40, Time: 4.0\n",
      "Frame: 41, Time: 4.1\n",
      "Frame: 42, Time: 4.2\n",
      "Frame: 43, Time: 4.3\n",
      "Frame: 44, Time: 4.4\n",
      "Frame: 45, Time: 4.5\n",
      "Frame: 46, Time: 4.6\n",
      "Frame: 47, Time: 4.7\n",
      "Frame: 48, Time: 4.8\n",
      "Frame: 49, Time: 4.9\n",
      "Frame: 50, Time: 5.0\n",
      "Frame: 51, Time: 5.1\n",
      "Frame: 52, Time: 5.2\n",
      "Frame: 53, Time: 5.3\n",
      "Frame: 54, Time: 5.4\n",
      "Frame: 55, Time: 5.5\n",
      "Frame: 56, Time: 5.6\n",
      "Frame: 57, Time: 5.7\n",
      "Frame: 58, Time: 5.8\n",
      "Frame: 59, Time: 5.9\n",
      "Frame: 60, Time: 6.0\n",
      "Frame: 61, Time: 6.1\n",
      "Frame: 62, Time: 6.2\n",
      "Frame: 63, Time: 6.3\n",
      "Frame: 64, Time: 6.4\n",
      "Frame: 65, Time: 6.5\n",
      "Frame: 66, Time: 6.6\n",
      "Frame: 67, Time: 6.7\n",
      "Frame: 68, Time: 6.8\n",
      "Frame: 69, Time: 6.9\n",
      "Frame: 70, Time: 7.0\n",
      "Frame: 71, Time: 7.1\n",
      "Frame: 72, Time: 7.2\n",
      "Frame: 73, Time: 7.3\n",
      "Frame: 74, Time: 7.4\n",
      "Frame: 75, Time: 7.5\n",
      "Frame: 76, Time: 7.6\n"
     ]
    }
   ],
   "source": [
    "ani = animation.FuncAnimation(fig, updatefig, frames=range(1,6000), interval=0, blit=True)\n"
   ]
  },
  {
   "cell_type": "code",
   "execution_count": null,
   "metadata": {
    "collapsed": true
   },
   "outputs": [],
   "source": []
  },
  {
   "cell_type": "code",
   "execution_count": null,
   "metadata": {
    "collapsed": true
   },
   "outputs": [],
   "source": []
  },
  {
   "cell_type": "code",
   "execution_count": null,
   "metadata": {
    "collapsed": true
   },
   "outputs": [],
   "source": []
  }
 ],
 "metadata": {
  "kernelspec": {
   "display_name": "Python 2",
   "language": "python",
   "name": "python2"
  },
  "language_info": {
   "codemirror_mode": {
    "name": "ipython",
    "version": 2
   },
   "file_extension": ".py",
   "mimetype": "text/x-python",
   "name": "python",
   "nbconvert_exporter": "python",
   "pygments_lexer": "ipython2",
   "version": "2.7.11"
  }
 },
 "nbformat": 4,
 "nbformat_minor": 0
}
